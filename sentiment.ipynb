{
 "cells": [
  {
   "cell_type": "code",
   "execution_count": 1,
   "metadata": {
    "collapsed": true
   },
   "outputs": [],
   "source": [
    "import pandas as pd\n",
    "# data = pd.read_csv(\"0819_UkraineCombinedTweetsDeduped.csv\")\n",
    "# data.head(10)\n",
    "data = pd.read_json(\"tweets\\\\{user}-1000.json\".format(user=\"ZelenskyyUa\"), lines=True)\n",
    "\n"
   ]
  },
  {
   "cell_type": "code",
   "execution_count": 2,
   "outputs": [
    {
     "name": "stdout",
     "output_type": "stream",
     "text": [
      "Training classifier\n",
      "Evaluating NaiveBayesClassifier results...\n",
      "Accuracy: 0.8\n",
      "F-measure [obj]: 0.8\n",
      "F-measure [subj]: 0.8\n",
      "Precision [obj]: 0.8\n",
      "Precision [subj]: 0.8\n",
      "Recall [obj]: 0.8\n",
      "Recall [subj]: 0.8\n"
     ]
    }
   ],
   "source": [
    "import nltk\n",
    "#nltk.download('subjectivity')\n",
    "\n",
    "from nltk.classify import NaiveBayesClassifier\n",
    "from nltk.corpus import subjectivity\n",
    "from nltk.sentiment import SentimentAnalyzer\n",
    "from nltk.sentiment.util import *\n",
    "n_instances = 100\n",
    "subj_docs = [(sent, 'subj') for sent in subjectivity.sents(categories='subj')[:n_instances]]\n",
    "obj_docs = [(sent, 'obj') for sent in subjectivity.sents(categories='obj')[:n_instances]]\n",
    "len(subj_docs), len(obj_docs)\n",
    "subj_docs[0]\n",
    "\n",
    "train_subj_docs = subj_docs[:80]\n",
    "test_subj_docs = subj_docs[80:100]\n",
    "train_obj_docs = obj_docs[:80]\n",
    "test_obj_docs = obj_docs[80:100]\n",
    "training_docs = train_subj_docs+train_obj_docs\n",
    "testing_docs = test_subj_docs+test_obj_docs\n",
    "\n",
    "sentim_analyzer = SentimentAnalyzer()\n",
    "all_words_neg = sentim_analyzer.all_words([mark_negation(doc) for doc in training_docs])\n",
    "\n",
    "unigram_feats = sentim_analyzer.unigram_word_feats(all_words_neg, min_freq=4)\n",
    "sentim_analyzer.add_feat_extractor(extract_unigram_feats, unigrams=unigram_feats)\n",
    "\n",
    "training_set = sentim_analyzer.apply_features(training_docs)\n",
    "test_set = sentim_analyzer.apply_features(testing_docs)\n",
    "\n",
    "trainer = NaiveBayesClassifier.train\n",
    "classifier = sentim_analyzer.train(trainer, training_set)\n",
    "for key,value in sorted(sentim_analyzer.evaluate(test_set).items()):\n",
    "    print('{0}: {1}'.format(key, value))"
   ],
   "metadata": {
    "collapsed": false
   }
  },
  {
   "cell_type": "code",
   "execution_count": 8,
   "outputs": [],
   "source": [
    "from nltk import tokenize\n",
    "#nltk.download(\"vader_lexicon\")\n",
    "from nltk.sentiment.vader import SentimentIntensityAnalyzer\n",
    "sentences = []\n",
    "for tweet_text in data.head(100)['content']:\n",
    "    lines_list = tokenize.sent_tokenize(tweet_text)\n",
    "    sentences.extend(lines_list)\n",
    "#print('sentences', sentences)\n",
    "compound_scores = []\n",
    "for sentence in sentences:\n",
    "    sid = SentimentIntensityAnalyzer()\n",
    "    # print(sentence)\n",
    "    ss = sid.polarity_scores(sentence)\n",
    "    compound_scores.append(ss['compound'])\n",
    "    # for k in sorted(ss):\n",
    "    #     print('{0}: {1}, '.format(k, ss[k]), end='')\n",
    "    # print(\"\\n------\")"
   ],
   "metadata": {
    "collapsed": false
   }
  },
  {
   "cell_type": "markdown",
   "source": [
    "https://github.com/cjhutto/vaderSentiment#about-the-scoring\n",
    "    positive sentiment: compound score >= 0.05\n",
    "    neutral sentiment: (compound score > -0.05) and (compound score < 0.05)\n",
    "    negative sentiment: compound score <= -0.05\n"
   ],
   "metadata": {
    "collapsed": false
   }
  },
  {
   "cell_type": "code",
   "execution_count": 9,
   "outputs": [
    {
     "data": {
      "text/plain": "(array([  9.,   7.,   8.,   7., 210.,  12.,  13.,  13.,  30.,  24.]),\n array([-0.8316 , -0.65822, -0.48484, -0.31146, -0.13808,  0.0353 ,\n         0.20868,  0.38206,  0.55544,  0.72882,  0.9022 ]),\n <BarContainer object of 10 artists>)"
     },
     "execution_count": 9,
     "metadata": {},
     "output_type": "execute_result"
    },
    {
     "data": {
      "text/plain": "<Figure size 432x288 with 1 Axes>",
      "image/png": "[encoded data removed]"
     },
     "metadata": {
      "needs_background": "light"
     },
     "output_type": "display_data"
    }
   ],
   "source": [
    "from matplotlib import pyplot as plt\n",
    "\n",
    "## plot frequency of compound scores\n",
    "plt.hist(compound_scores)"
   ],
   "metadata": {
    "collapsed": false
   }
  },
  {
   "cell_type": "markdown",
   "metadata": {},
   "source": [
    "https://github.com/cjhutto/vaderSentiment#about-the-scoring\n",
    "    positive sentiment: compound score >= 0.05\n",
    "    neutral sentiment: (compound score > -0.05) and (compound score < 0.05)\n",
    "    negative sentiment: compound score <= -0.05\n"
   ]
  }
 ],
 "metadata": {
  "kernelspec": {
   "display_name": "PyCharm (CCP Ukraine)",
   "language": "python",
   "name": "pycharm-a5ec86db"
  },
  "language_info": {
   "codemirror_mode": {
    "name": "ipython",
    "version": 3
   },
   "file_extension": ".py",
   "mimetype": "text/x-python",
   "name": "python",
   "nbconvert_exporter": "python",
   "pygments_lexer": "ipython3",
   "version": "3.8.8"
  },
  "pycharm": {
   "stem_cell": {
    "cell_type": "raw",
    "source": [],
    "metadata": {
     "collapsed": false
    }
   }
  }
 },
 "nbformat": 4,
 "nbformat_minor": 0
}
